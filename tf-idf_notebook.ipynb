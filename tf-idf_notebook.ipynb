{
 "cells": [
  {
   "cell_type": "code",
   "execution_count": 118,
   "metadata": {
    "collapsed": false
   },
   "outputs": [
    {
     "data": {
      "text/plain": [
       "u'/Users/kingfengji/GitHub/homeworks/hw1'"
      ]
     },
     "execution_count": 118,
     "metadata": {},
     "output_type": "execute_result"
    }
   ],
   "source": [
    "pwd()"
   ]
  },
  {
   "cell_type": "code",
   "execution_count": 119,
   "metadata": {
    "collapsed": true
   },
   "outputs": [],
   "source": [
    "import jieba as jb"
   ]
  },
  {
   "cell_type": "code",
   "execution_count": 120,
   "metadata": {
    "collapsed": true
   },
   "outputs": [],
   "source": [
    "from __future__ import division\n",
    "import string\n",
    "import math\n",
    "\n",
    "#tokenize = lambda doc: doc.lower().split(\" \")"
   ]
  },
  {
   "cell_type": "code",
   "execution_count": 121,
   "metadata": {
    "collapsed": true
   },
   "outputs": [],
   "source": [
    "document_0 = \"这是一个测试wolao\"\n",
    "document_1 = \"这是另一个测试\"\n",
    "document_2 = \"假期要结束了呜呜呜\"\n",
    " \n",
    "all_documents = [document_0, document_1, document_2]\n"
   ]
  },
  {
   "cell_type": "code",
   "execution_count": 122,
   "metadata": {
    "collapsed": false
   },
   "outputs": [
    {
     "name": "stdout",
     "output_type": "stream",
     "text": [
      "这是一个测试wolao\n"
     ]
    }
   ],
   "source": [
    "print all_documents[0]"
   ]
  },
  {
   "cell_type": "code",
   "execution_count": 123,
   "metadata": {
    "collapsed": true
   },
   "outputs": [],
   "source": [
    "def listToTokenList(ltxt):\n",
    "    token_list = list()\n",
    "    for instance in ltxt:\n",
    "        token_list.append(jb.lcut(instance, cut_all=False))\n",
    "    return token_list"
   ]
  },
  {
   "cell_type": "code",
   "execution_count": 124,
   "metadata": {
    "collapsed": false
   },
   "outputs": [
    {
     "name": "stdout",
     "output_type": "stream",
     "text": [
      "[[u'\\u8fd9\\u662f', u'\\u4e00\\u4e2a', u'\\u6d4b\\u8bd5', u'wolao'], [u'\\u8fd9', u'\\u662f', u'\\u53e6', u'\\u4e00\\u4e2a', u'\\u6d4b\\u8bd5'], [u'\\u5047\\u671f', u'\\u8981', u'\\u7ed3\\u675f', u'\\u4e86', u'\\u545c\\u545c', u'\\u545c']]\n"
     ]
    }
   ],
   "source": [
    "tokenized_documents = listToTokenList(all_documents)\n",
    "print tokenized_documents"
   ]
  },
  {
   "cell_type": "code",
   "execution_count": 125,
   "metadata": {
    "collapsed": false
   },
   "outputs": [
    {
     "name": "stdout",
     "output_type": "stream",
     "text": [
      "这是 一个 测试 wolao\n",
      "这 是 另 一个 测试\n",
      "假期 要 结束 了 呜呜 呜\n"
     ]
    }
   ],
   "source": [
    "for i in range(len(tokenized_documents)):\n",
    "    print \" \".join(tokenized_documents[i])"
   ]
  },
  {
   "cell_type": "code",
   "execution_count": 126,
   "metadata": {
    "collapsed": false
   },
   "outputs": [],
   "source": [
    "from collections import Counter\n",
    "\n",
    "for doc in tokenized_documents:\n",
    "    tf = Counter()\n",
    "    for i in range(len(doc)):\n",
    "        for word in doc[i]:\n",
    "            tf[word] +=1\n"
   ]
  },
  {
   "cell_type": "code",
   "execution_count": 127,
   "metadata": {
    "collapsed": false
   },
   "outputs": [
    {
     "name": "stdout",
     "output_type": "stream",
     "text": [
      "(要,1)\n",
      "(假,1)\n",
      "(了,1)\n",
      "(结,1)\n",
      "(期,1)\n",
      "(呜,3)\n",
      "(束,1)\n"
     ]
    }
   ],
   "source": [
    "for i in range(len(tf.items())):\n",
    "    word,count = tf.items()[i]\n",
    "    print \"(\" + word + \",\" + str(count)+\")\""
   ]
  },
  {
   "cell_type": "code",
   "execution_count": 128,
   "metadata": {
    "collapsed": false
   },
   "outputs": [
    {
     "data": {
      "text/plain": [
       "[(u'\\u8981', 1),\n",
       " (u'\\u5047', 1),\n",
       " (u'\\u4e86', 1),\n",
       " (u'\\u7ed3', 1),\n",
       " (u'\\u671f', 1),\n",
       " (u'\\u545c', 3),\n",
       " (u'\\u675f', 1)]"
      ]
     },
     "execution_count": 128,
     "metadata": {},
     "output_type": "execute_result"
    }
   ],
   "source": [
    "tf.items()"
   ]
  },
  {
   "cell_type": "code",
   "execution_count": null,
   "metadata": {
    "collapsed": true
   },
   "outputs": [],
   "source": []
  }
 ],
 "metadata": {
  "kernelspec": {
   "display_name": "Python 2",
   "language": "python",
   "name": "python2"
  },
  "language_info": {
   "codemirror_mode": {
    "name": "ipython",
    "version": 2
   },
   "file_extension": ".py",
   "mimetype": "text/x-python",
   "name": "python",
   "nbconvert_exporter": "python",
   "pygments_lexer": "ipython2",
   "version": "2.7.10"
  }
 },
 "nbformat": 4,
 "nbformat_minor": 0
}
